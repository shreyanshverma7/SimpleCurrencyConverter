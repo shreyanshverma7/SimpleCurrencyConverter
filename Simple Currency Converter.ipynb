{
 "cells": [
  {
   "cell_type": "code",
   "execution_count": 19,
   "id": "1a33ee22",
   "metadata": {},
   "outputs": [],
   "source": [
    "import requests\n",
    "import json\n",
    "import numpy as np"
   ]
  },
  {
   "cell_type": "code",
   "execution_count": 48,
   "id": "96c7af3a",
   "metadata": {},
   "outputs": [],
   "source": [
    "base_url = \"https://api.apilayer.com/exchangerates_data/\"\n",
    "\n",
    "headers= {\n",
    "  \"apikey\": \"RwWvonrHL4gB5Vtu6iefmxl7VTGZGTDB\"\n",
    "}"
   ]
  },
  {
   "cell_type": "code",
   "execution_count": 50,
   "id": "1d9ddea5",
   "metadata": {},
   "outputs": [
    {
     "name": "stdout",
     "output_type": "stream",
     "text": [
      "The Supported Currencies are:\n",
      "\n",
      "['AED', 'AFN', 'ALL', 'AMD', 'ANG', 'AOA', 'ARS', 'AUD', 'AWG', 'AZN', 'BAM', 'BBD', 'BDT', 'BGN', 'BHD', 'BIF', 'BMD', 'BND', 'BOB', 'BRL', 'BSD', 'BTC', 'BTN', 'BWP', 'BYN', 'BYR', 'BZD', 'CAD', 'CDF', 'CHF', 'CLF', 'CLP', 'CNY', 'COP', 'CRC', 'CUC', 'CUP', 'CVE', 'CZK', 'DJF', 'DKK', 'DOP', 'DZD', 'EGP', 'ERN', 'ETB', 'EUR', 'FJD', 'FKP', 'GBP', 'GEL', 'GGP', 'GHS', 'GIP', 'GMD', 'GNF', 'GTQ', 'GYD', 'HKD', 'HNL', 'HRK', 'HTG', 'HUF', 'IDR', 'ILS', 'IMP', 'INR', 'IQD', 'IRR', 'ISK', 'JEP', 'JMD', 'JOD', 'JPY', 'KES', 'KGS', 'KHR', 'KMF', 'KPW', 'KRW', 'KWD', 'KYD', 'KZT', 'LAK', 'LBP', 'LKR', 'LRD', 'LSL', 'LTL', 'LVL', 'LYD', 'MAD', 'MDL', 'MGA', 'MKD', 'MMK', 'MNT', 'MOP', 'MRO', 'MUR', 'MVR', 'MWK', 'MXN', 'MYR', 'MZN', 'NAD', 'NGN', 'NIO', 'NOK', 'NPR', 'NZD', 'OMR', 'PAB', 'PEN', 'PGK', 'PHP', 'PKR', 'PLN', 'PYG', 'QAR', 'RON', 'RSD', 'RUB', 'RWF', 'SAR', 'SBD', 'SCR', 'SDG', 'SEK', 'SGD', 'SHP', 'SLL', 'SOS', 'SRD', 'STD', 'SVC', 'SYP', 'SZL', 'THB', 'TJS', 'TMT', 'TND', 'TOP', 'TRY', 'TTD', 'TWD', 'TZS', 'UAH', 'UGX', 'USD', 'UYU', 'UZS', 'VEF', 'VND', 'VUV', 'WST', 'XAF', 'XAG', 'XAU', 'XCD', 'XDR', 'XOF', 'XPF', 'YER', 'ZAR', 'ZMK', 'ZMW', 'ZWL']\n",
      "Convert from (currency):USD\n",
      "Covert to (currency):INR\n",
      "How much USD you want to convert: 10\n",
      "\n",
      "10.0 USD is equal to 782.52504 INR, based upon current exchange rates.\n"
     ]
    }
   ],
   "source": [
    "supp_curr = base_url+\"symbols\"\n",
    "supp_curr_req = requests.request(\"GET\", supp_curr, headers=headers, data = payload)\n",
    "available_currencies = supp_curr_req.json()\n",
    "avail_curr_list = list(available_currencies['symbols'].keys())\n",
    "print(\"The Supported Currencies are:\\n\")\n",
    "print(avail_curr_list)\n",
    "\n",
    "base = input(\"Convert from (currency):\").upper()\n",
    "curr = input(\"Covert to (currency):\").upper()\n",
    "quantity = float(input(f\"How much {base} you want to convert: \"))\n",
    "\n",
    "payload = {}\n",
    "url = base_url + \"latest\" + \"?symbols=\" + curr + \"&base=\" + base\n",
    "response = requests.request(\"GET\", url, headers=headers, data = payload)\n",
    "\n",
    "if(response.ok is False):\n",
    "    print(f\"\\nError {response.status_code}\")\n",
    "    print(response.json()['error'])\n",
    "    \n",
    "else:\n",
    "    data = response.json()\n",
    "    rate = data['rates'][curr]\n",
    "    \n",
    "    answer = rate*quantity\n",
    "    \n",
    "    print(f\"\\n{quantity} {base} is equal to {answer} {curr}, based upon current exchange rates.\")"
   ]
  },
  {
   "cell_type": "code",
   "execution_count": null,
   "id": "9d58066f",
   "metadata": {},
   "outputs": [],
   "source": []
  }
 ],
 "metadata": {
  "kernelspec": {
   "display_name": "Python 3",
   "language": "python",
   "name": "python3"
  },
  "language_info": {
   "codemirror_mode": {
    "name": "ipython",
    "version": 3
   },
   "file_extension": ".py",
   "mimetype": "text/x-python",
   "name": "python",
   "nbconvert_exporter": "python",
   "pygments_lexer": "ipython3",
   "version": "3.8.8"
  }
 },
 "nbformat": 4,
 "nbformat_minor": 5
}
